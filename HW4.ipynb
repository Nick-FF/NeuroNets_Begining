{
  "nbformat": 4,
  "nbformat_minor": 0,
  "metadata": {
    "colab": {
      "name": "HW4.ipynb",
      "provenance": [],
      "collapsed_sections": [],
      "machine_shape": "hm",
      "include_colab_link": true
    },
    "kernelspec": {
      "name": "python3",
      "display_name": "Python 3"
    },
    "accelerator": "GPU"
  },
  "cells": [
    {
      "cell_type": "markdown",
      "metadata": {
        "id": "view-in-github",
        "colab_type": "text"
      },
      "source": [
        "<a href=\"https://colab.research.google.com/github/Nick-FF/NeuroNets_Begining/blob/Less4/HW4.ipynb\" target=\"_parent\"><img src=\"https://colab.research.google.com/assets/colab-badge.svg\" alt=\"Open In Colab\"/></a>"
      ]
    },
    {
      "cell_type": "markdown",
      "metadata": {
        "id": "eUy0000jIUuh"
      },
      "source": [
        "# Разбор ДЗ4\n",
        "Вариант 2. (сложный)\n",
        "    1. реализовать нейронную сеть в схеме AlexNet на сifar10.\n",
        "    2. оценить рост точности при увеличении ширины сети (больше ядер)\n",
        "    3. оценить рост точности при увеличении глубины сети (больше слоев)\n"
      ]
    },
    {
      "cell_type": "code",
      "metadata": {
        "id": "HeyrSETEITbm"
      },
      "source": [
        "# The full neural network code!\n",
        "###############################\n",
        "import numpy as np\n",
        "import pandas as pd\n",
        "#import mnist\n",
        "import tensorflow\n",
        "from tensorflow.keras.models import Sequential\n",
        "from tensorflow.keras.layers import Dense\n",
        "from tensorflow.keras.utils import to_categorical\n",
        "from tensorflow.keras.datasets import cifar10\n",
        "\n"
      ],
      "execution_count": 12,
      "outputs": []
    },
    {
      "cell_type": "markdown",
      "metadata": {
        "id": "4K3a9LQOXHg4"
      },
      "source": [
        "\n",
        "\n",
        "Можно обрабатывать данные - это улучшит результат. \n",
        "\n"
      ]
    },
    {
      "cell_type": "code",
      "metadata": {
        "id": "HcOQiVbaIaW9"
      },
      "source": [
        "(train_images,train_labels),(test_images,test_labels)=cifar10.load_data()\n",
        "\n",
        "# Normalize the images.\n",
        "train_images = (train_images / 255) - 0.5\n",
        "test_images = (test_images / 255) - 0.5\n",
        "\n",
        "# Flatten the images.\n",
        "\n",
        "\n",
        "train_labels = to_categorical(train_labels)\n",
        "test_labels = to_categorical(test_labels)\n",
        "#"
      ],
      "execution_count": 13,
      "outputs": []
    },
    {
      "cell_type": "code",
      "metadata": {
        "id": "Waiie8OZfrOA"
      },
      "source": [
        "from tensorflow.keras.models import Model "
      ],
      "execution_count": 14,
      "outputs": []
    },
    {
      "cell_type": "markdown",
      "metadata": {
        "id": "HiCdyupggzwX"
      },
      "source": [
        "## AlexNet\n",
        "\n",
        "https://habr.com/ru/company/nix/blog/430524/\n",
        "\n",
        "\n",
        "Использование блоков линейной ректификации (ReLU) в качестве нелинейностей.\n",
        "\n",
        "Использование методики отбрасывания для выборочного игнорирования отдельных нейронов в ходе обучения, что позволяет избежать переобучения модели.\n",
        "\n",
        "Перекрытие max pooling, что позволяет избежать эффектов усреднения average pooling."
      ]
    },
    {
      "cell_type": "code",
      "metadata": {
        "id": "qhvLTu4AJIou"
      },
      "source": [
        "# соберу генерацию модели в функцию\n",
        "def neuron_net(layerList = [8,16,32,64,128], kernel_size_=[5,3,3,3,3]):\n",
        "  # Используеv функциональное API\n",
        "  # первый слой всегда 32х32х3 входов\n",
        "  \n",
        "  # в передаваемых параметрах :layerList = [8,16,32,64,128] - число ядер по слоям, в kernel_size_=[5,3,3,3,3] - размеры ядер по слоям\n",
        "  # инициализация  модели\n",
        "  input1= tensorflow.keras.layers.Input(shape=(32,32,3))\n",
        "  # первый сверточный слой\n",
        "  x1 = tensorflow.keras.layers.Conv2D(layerList[0], kernel_size=(kernel_size_[0], kernel_size_[0]), strides=(1, 1), activation='relu',  padding=\"same\")(input1)\n",
        "  # второй пуллинговый слой\n",
        "  x2 = tensorflow.keras.layers.MaxPooling2D(pool_size=(2, 2), strides=(1, 1), padding='same')(x1)\n",
        "\n",
        "  # третий сверточный слой\n",
        "  x3 = tensorflow.keras.layers.Conv2D(layerList[1], kernel_size=(kernel_size_[1], kernel_size_[1]), strides=(1, 1), activation='relu', padding='same')(x2)\n",
        "\n",
        "  # четвертый пуллинговый слой\n",
        "  x4 = tensorflow.keras.layers.MaxPooling2D(pool_size=(2, 2), strides=(2, 2), padding='same')(x3)\n",
        "\n",
        "  # пятый блок  слоев свертки без изменения размеров\n",
        "  x5 = tensorflow.keras.layers.Conv2D(layerList[2], kernel_size=(kernel_size_[2], kernel_size_[2]), strides=(1, 1), activation='relu', padding='same')(x4)\n",
        "  x5 = tensorflow.keras.layers.Conv2D(layerList[3], kernel_size=(kernel_size_[3], kernel_size_[3]), strides=(1, 1), activation='relu', padding='same')(x5)\n",
        "  x5 = tensorflow.keras.layers.Conv2D(layerList[4], kernel_size=(kernel_size_[4], kernel_size_[4]), strides=(1, 1), activation='relu', padding='same')(x5)\n",
        "  x5 = tensorflow.keras.layers.MaxPooling2D(pool_size=(2, 2), strides=(2, 2), padding='same')(x5)\n",
        "\n",
        "  # векторизирую CNN выход, чтобы можно было его присоединить к полносвязногому слою\n",
        "  x6 = tensorflow.keras.layers.Flatten()(x5)\n",
        "\n",
        "  # шестой полносвязный слой\n",
        "  x7 = tensorflow.keras.layers.Dense(84, activation='relu')(x6)\n",
        "\n",
        "  # выходной слой с функцией активации softmax\n",
        "  out_x = tensorflow.keras.layers.Dense(10, activation='softmax')(x7)\n",
        "\n",
        "  model = Model(inputs = input1, outputs = out_x)\n",
        "  model3 = Model(inputs = input1, outputs = x3) # эТО ДЛЯ ПОСМОТРЕТЬ ВНУТРИ\n",
        "  model5 = Model(inputs = input1, outputs = x5)  # эТО ДЛЯ ПОСМОТРЕТЬ ВНУТРИ\n",
        "# компилияция модели\n",
        "  model.compile(loss=tensorflow.keras.losses.categorical_crossentropy, optimizer='SGD', metrics=[\"accuracy\"])\n",
        "\n",
        "  return model, model3,model5"
      ],
      "execution_count": 15,
      "outputs": []
    },
    {
      "cell_type": "code",
      "metadata": {
        "id": "Ty54FFTTKSpB"
      },
      "source": [
        "from IPython.core.pylabtools import retina_figure\n",
        "### Эксперимент\n",
        "def expirience(batch_size_list, epoch_list, neuron_list, layerList_tail):\n",
        "  Error_exp_ = pd.DataFrame(data=np.array([[0,0,0,0,0]]),columns = ['neuron','batch_size','epoch','error','accuracy'])\n",
        "  for epochs in epoch_list:\n",
        "    \n",
        "    ik=0\n",
        "    for neuron_ in neuron_list:\n",
        "      # меняю число нейронов скрытого слоя\n",
        "      #print(neuron_)\n",
        "      for batch_size_ in batch_size_list:\n",
        "        # меняю размер пакета для обучения\n",
        "        eerors = []\n",
        "        acc =[]\n",
        "        for j in range(3):\n",
        "          # будем делать несколько перезапусков - сейчас 3\n",
        "          \n",
        "          # создаем сеть\n",
        "          model, model3,model5 = neuron_net(layerList = [neuron_]+layerList_tail,kernel_size_=[5,3,3,3,3])\n",
        "          # учим сеть и проверяем сразу, т.к. включаю validation_split=0.2\n",
        "          history = model.fit(train_images, train_labels, epochs=5, batch_size=32, validation_split=0.2, verbose=0)\n",
        "          # записываю результаты валидации, а не обучения - это честно\n",
        "          eerors.append(history.history['val_loss'][-1])\n",
        "          acc.append(history.history['val_accuracy'][-1])\n",
        "        # Табличка !!!! \n",
        "        Error_exp_.loc[ik,['neuron','batch_size','epoch','error','accuracy']] = [neuron_,batch_size_,epochs ,np.mean(eerors),np.mean(acc)]\n",
        "        ik +=1\n",
        "\n",
        "\n",
        "  # Predict on the first 5 test images.\n",
        "  predictions = model.predict(test_images[:5])\n",
        "\n",
        "  # Print our model's predictions.\n",
        "  print(np.argmax(predictions, axis=1)) # [7, 2, 1, 0, 4]\n",
        "\n",
        "  # Check our predictions against the ground truths.\n",
        "  print(test_labels[:5]) # [7, 2, 1, 0, 4]\n",
        "  return Error_exp_ "
      ],
      "execution_count": 16,
      "outputs": []
    },
    {
      "cell_type": "code",
      "source": [
        "import matplotlib.pyplot as plt\n",
        "def plotter(epoch, batch_size, Error_exp_pass):\n",
        "  # ГРАФИКИ !!!!! - это будет точность от числа нейронов по размерам пакетов(batch_size)\n",
        "  for epoh in epoch:\n",
        "    plt.figure(figsize=(16,5))\n",
        "    plt.title(f'epoch {epoh}')\n",
        "    for batch_s in batch_size:\n",
        "      filter=[Error_exp_pass['epoch']==epoh & Error_exp_pass['batch_size']==batch_s,['neuron','accuracy']]\n",
        "      plt.xlabel('neuron')\n",
        "      plt.ylabel('accuracy')\n",
        "      plt.plot(filter['neuron'],filter['accuracy'],label = f'batch_size = {batch_s}')\n",
        "    print(filter)\n",
        "    plt.legend()\n",
        "    plt.show()    "
      ],
      "metadata": {
        "id": "SCBOYGdYrmWu"
      },
      "execution_count": 17,
      "outputs": []
    },
    {
      "cell_type": "markdown",
      "source": [
        "Вариант с layerList_tail=[16,32,64,128]"
      ],
      "metadata": {
        "id": "Tk1C2ypMJtTR"
      }
    },
    {
      "cell_type": "code",
      "source": [
        "batch_size_list = [50, 100,200]\n",
        "epoch_list = [100, 150, 200]\n",
        "neuron_list=[64,128]\n",
        "layerList_tail=[16,32,64,128]\n",
        "Error_exp_=expirience(batch_size_list, epoch_list, neuron_list, layerList_tail)\n",
        "plotter(epoch_list, batch_size_list, Error_exp_)"
      ],
      "metadata": {
        "id": "4Eym9wBw51Nb"
      },
      "execution_count": null,
      "outputs": []
    },
    {
      "cell_type": "code",
      "source": [
        "Error_exp_"
      ],
      "metadata": {
        "colab": {
          "base_uri": "https://localhost:8080/",
          "height": 171
        },
        "id": "RTifslfkRhzF",
        "outputId": "c057c619-1c29-45cd-e0f7-25b4a235d8bd"
      },
      "execution_count": 1,
      "outputs": [
        {
          "output_type": "error",
          "ename": "NameError",
          "evalue": "ignored",
          "traceback": [
            "\u001b[0;31m---------------------------------------------------------------------------\u001b[0m",
            "\u001b[0;31mNameError\u001b[0m                                 Traceback (most recent call last)",
            "\u001b[0;32m<ipython-input-1-7cd1f51ffc9d>\u001b[0m in \u001b[0;36m<module>\u001b[0;34m()\u001b[0m\n\u001b[0;32m----> 1\u001b[0;31m \u001b[0mError_exp_\u001b[0m\u001b[0;34m\u001b[0m\u001b[0;34m\u001b[0m\u001b[0m\n\u001b[0m",
            "\u001b[0;31mNameError\u001b[0m: name 'Error_exp_' is not defined"
          ]
        }
      ]
    },
    {
      "cell_type": "code",
      "source": [
        "batch_size_list = [50, 100,200]\n",
        "epoch_list = [100, 150, 200]\n",
        "neuron_list=[64,128]\n",
        "layerList_tail=[128,64,32,16]\n",
        "Error_exp_=expirience(batch_size_list, epoch_list, neuron_list, layerList_tail)\n",
        "plotter(epoch_list, batch_size_list, Error_exp_)"
      ],
      "metadata": {
        "colab": {
          "base_uri": "https://localhost:8080/",
          "height": 1000
        },
        "id": "frDk3X50eG5t",
        "outputId": "5545d8c0-dfe0-472d-864b-3e5ccd122010"
      },
      "execution_count": 8,
      "outputs": [
        {
          "output_type": "stream",
          "name": "stdout",
          "text": [
            "[3 8 0 0 4]\n",
            "[[0. 0. 0. 1. 0. 0. 0. 0. 0. 0.]\n",
            " [0. 0. 0. 0. 0. 0. 0. 0. 1. 0.]\n",
            " [0. 0. 0. 0. 0. 0. 0. 0. 1. 0.]\n",
            " [1. 0. 0. 0. 0. 0. 0. 0. 0. 0.]\n",
            " [0. 0. 0. 0. 0. 0. 1. 0. 0. 0.]]\n"
          ]
        },
        {
          "output_type": "display_data",
          "data": {
            "text/plain": [
              "<Figure size 432x288 with 1 Axes>"
            ],
            "image/png": "[encoded data removed]"
          },
          "metadata": {
            "needs_background": "light"
          }
        },
        {
          "output_type": "display_data",
          "data": {
            "text/plain": [
              "<Figure size 1152x360 with 1 Axes>"
            ],
            "image/png": "[encoded data removed]"
          },
          "metadata": {
            "needs_background": "light"
          }
        },
        {
          "output_type": "display_data",
          "data": {
            "text/plain": [
              "<Figure size 1152x360 with 1 Axes>"
            ],
            "image/png": "[encoded data removed]"
          },
          "metadata": {
            "needs_background": "light"
          }
        },
        {
          "output_type": "display_data",
          "data": {
            "text/plain": [
              "<Figure size 1152x360 with 1 Axes>"
            ],
            "image/png": "[encoded data removed]"
          },
          "metadata": {
            "needs_background": "light"
          }
        },
        {
          "output_type": "display_data",
          "data": {
            "text/plain": [
              "<Figure size 432x288 with 1 Axes>"
            ],
            "image/png": "[encoded data removed]"
          },
          "metadata": {
            "needs_background": "light"
          }
        },
        {
          "output_type": "display_data",
          "data": {
            "text/plain": [
              "<Figure size 1152x360 with 1 Axes>"
            ],
            "image/png": "[encoded data removed]"
          },
          "metadata": {
            "needs_background": "light"
          }
        },
        {
          "output_type": "display_data",
          "data": {
            "text/plain": [
              "<Figure size 1152x360 with 1 Axes>"
            ],
            "image/png": "[encoded data removed]"
          },
          "metadata": {
            "needs_background": "light"
          }
        },
        {
          "output_type": "display_data",
          "data": {
            "text/plain": [
              "<Figure size 1152x360 with 1 Axes>"
            ],
            "image/png": "[encoded data removed]"
          },
          "metadata": {
            "needs_background": "light"
          }
        },
        {
          "output_type": "display_data",
          "data": {
            "text/plain": [
              "<Figure size 432x288 with 1 Axes>"
            ],
            "image/png": "[encoded data removed]"
          },
          "metadata": {
            "needs_background": "light"
          }
        },
        {
          "output_type": "display_data",
          "data": {
            "text/plain": [
              "<Figure size 1152x360 with 1 Axes>"
            ],
            "image/png": "[encoded data removed]"
          },
          "metadata": {
            "needs_background": "light"
          }
        },
        {
          "output_type": "display_data",
          "data": {
            "text/plain": [
              "<Figure size 1152x360 with 1 Axes>"
            ],
            "image/png": "[encoded data removed]"
          },
          "metadata": {
            "needs_background": "light"
          }
        },
        {
          "output_type": "display_data",
          "data": {
            "text/plain": [
              "<Figure size 1152x360 with 1 Axes>"
            ],
            "image/png": "[encoded data removed]"
          },
          "metadata": {
            "needs_background": "light"
          }
        }
      ]
    },
    {
      "cell_type": "code",
      "metadata": {
        "id": "7sBCELqDdpDh",
        "colab": {
          "base_uri": "https://localhost:8080/",
          "height": 190
        },
        "outputId": "5fa3c833-44fe-416b-9eab-0ec03e536dbc"
      },
      "source": [
        "# Покажем нашУ модельку\n",
        "model.summary()"
      ],
      "execution_count": 9,
      "outputs": [
        {
          "output_type": "error",
          "ename": "NameError",
          "evalue": "ignored",
          "traceback": [
            "\u001b[0;31m---------------------------------------------------------------------------\u001b[0m",
            "\u001b[0;31mNameError\u001b[0m                                 Traceback (most recent call last)",
            "\u001b[0;32m<ipython-input-9-12ceca0f71d2>\u001b[0m in \u001b[0;36m<module>\u001b[0;34m()\u001b[0m\n\u001b[1;32m      1\u001b[0m \u001b[0;31m# Покажем нашУ модельку\u001b[0m\u001b[0;34m\u001b[0m\u001b[0;34m\u001b[0m\u001b[0;34m\u001b[0m\u001b[0m\n\u001b[0;32m----> 2\u001b[0;31m \u001b[0mmodel\u001b[0m\u001b[0;34m.\u001b[0m\u001b[0msummary\u001b[0m\u001b[0;34m(\u001b[0m\u001b[0;34m)\u001b[0m\u001b[0;34m\u001b[0m\u001b[0;34m\u001b[0m\u001b[0m\n\u001b[0m",
            "\u001b[0;31mNameError\u001b[0m: name 'model' is not defined"
          ]
        }
      ]
    },
    {
      "cell_type": "code",
      "metadata": {
        "id": "ef4a__JGMvXT",
        "colab": {
          "base_uri": "https://localhost:8080/",
          "height": 237
        },
        "outputId": "24f987f2-edcf-42e8-cb4d-fb6d8787c440"
      },
      "source": [
        "# табличка !!!!\n",
        "Error_exp_"
      ],
      "execution_count": 37,
      "outputs": [
        {
          "output_type": "execute_result",
          "data": {
            "text/plain": [
              "   neuron  batch_size  epoch     error  accuracy\n",
              "0    64.0        50.0  200.0  1.063472  0.623933\n",
              "1    64.0       100.0  200.0  1.101926  0.609233\n",
              "2    64.0       200.0  200.0  1.086813  0.617633\n",
              "3   128.0        50.0  200.0  1.115201  0.608000\n",
              "4   128.0       100.0  200.0  1.081523  0.619867\n",
              "5   128.0       200.0  200.0  1.099859  0.610700"
            ],
            "text/html": [
              "\n",
              "  <div id=\"df-204d26a3-321e-4794-b9ee-d5a277c93ad7\">\n",
              "    <div class=\"colab-df-container\">\n",
              "      <div>\n",
              "<style scoped>\n",
              "    .dataframe tbody tr th:only-of-type {\n",
              "        vertical-align: middle;\n",
              "    }\n",
              "\n",
              "    .dataframe tbody tr th {\n",
              "        vertical-align: top;\n",
              "    }\n",
              "\n",
              "    .dataframe thead th {\n",
              "        text-align: right;\n",
              "    }\n",
              "</style>\n",
              "<table border=\"1\" class=\"dataframe\">\n",
              "  <thead>\n",
              "    <tr style=\"text-align: right;\">\n",
              "      <th></th>\n",
              "      <th>neuron</th>\n",
              "      <th>batch_size</th>\n",
              "      <th>epoch</th>\n",
              "      <th>error</th>\n",
              "      <th>accuracy</th>\n",
              "    </tr>\n",
              "  </thead>\n",
              "  <tbody>\n",
              "    <tr>\n",
              "      <th>0</th>\n",
              "      <td>64.0</td>\n",
              "      <td>50.0</td>\n",
              "      <td>200.0</td>\n",
              "      <td>1.063472</td>\n",
              "      <td>0.623933</td>\n",
              "    </tr>\n",
              "    <tr>\n",
              "      <th>1</th>\n",
              "      <td>64.0</td>\n",
              "      <td>100.0</td>\n",
              "      <td>200.0</td>\n",
              "      <td>1.101926</td>\n",
              "      <td>0.609233</td>\n",
              "    </tr>\n",
              "    <tr>\n",
              "      <th>2</th>\n",
              "      <td>64.0</td>\n",
              "      <td>200.0</td>\n",
              "      <td>200.0</td>\n",
              "      <td>1.086813</td>\n",
              "      <td>0.617633</td>\n",
              "    </tr>\n",
              "    <tr>\n",
              "      <th>3</th>\n",
              "      <td>128.0</td>\n",
              "      <td>50.0</td>\n",
              "      <td>200.0</td>\n",
              "      <td>1.115201</td>\n",
              "      <td>0.608000</td>\n",
              "    </tr>\n",
              "    <tr>\n",
              "      <th>4</th>\n",
              "      <td>128.0</td>\n",
              "      <td>100.0</td>\n",
              "      <td>200.0</td>\n",
              "      <td>1.081523</td>\n",
              "      <td>0.619867</td>\n",
              "    </tr>\n",
              "    <tr>\n",
              "      <th>5</th>\n",
              "      <td>128.0</td>\n",
              "      <td>200.0</td>\n",
              "      <td>200.0</td>\n",
              "      <td>1.099859</td>\n",
              "      <td>0.610700</td>\n",
              "    </tr>\n",
              "  </tbody>\n",
              "</table>\n",
              "</div>\n",
              "      <button class=\"colab-df-convert\" onclick=\"convertToInteractive('df-204d26a3-321e-4794-b9ee-d5a277c93ad7')\"\n",
              "              title=\"Convert this dataframe to an interactive table.\"\n",
              "              style=\"display:none;\">\n",
              "        \n",
              "  <svg xmlns=\"http://www.w3.org/2000/svg\" height=\"24px\"viewBox=\"0 0 24 24\"\n",
              "       width=\"24px\">\n",
              "    <path d=\"M0 0h24v24H0V0z\" fill=\"none\"/>\n",
              "    <path d=\"M18.56 5.44l.94 2.06.94-2.06 2.06-.94-2.06-.94-.94-2.06-.94 2.06-2.06.94zm-11 1L8.5 8.5l.94-2.06 2.06-.94-2.06-.94L8.5 2.5l-.94 2.06-2.06.94zm10 10l.94 2.06.94-2.06 2.06-.94-2.06-.94-.94-2.06-.94 2.06-2.06.94z\"/><path d=\"M17.41 7.96l-1.37-1.37c-.4-.4-.92-.59-1.43-.59-.52 0-1.04.2-1.43.59L10.3 9.45l-7.72 7.72c-.78.78-.78 2.05 0 2.83L4 21.41c.39.39.9.59 1.41.59.51 0 1.02-.2 1.41-.59l7.78-7.78 2.81-2.81c.8-.78.8-2.07 0-2.86zM5.41 20L4 18.59l7.72-7.72 1.47 1.35L5.41 20z\"/>\n",
              "  </svg>\n",
              "      </button>\n",
              "      \n",
              "  <style>\n",
              "    .colab-df-container {\n",
              "      display:flex;\n",
              "      flex-wrap:wrap;\n",
              "      gap: 12px;\n",
              "    }\n",
              "\n",
              "    .colab-df-convert {\n",
              "      background-color: #E8F0FE;\n",
              "      border: none;\n",
              "      border-radius: 50%;\n",
              "      cursor: pointer;\n",
              "      display: none;\n",
              "      fill: #1967D2;\n",
              "      height: 32px;\n",
              "      padding: 0 0 0 0;\n",
              "      width: 32px;\n",
              "    }\n",
              "\n",
              "    .colab-df-convert:hover {\n",
              "      background-color: #E2EBFA;\n",
              "      box-shadow: 0px 1px 2px rgba(60, 64, 67, 0.3), 0px 1px 3px 1px rgba(60, 64, 67, 0.15);\n",
              "      fill: #174EA6;\n",
              "    }\n",
              "\n",
              "    [theme=dark] .colab-df-convert {\n",
              "      background-color: #3B4455;\n",
              "      fill: #D2E3FC;\n",
              "    }\n",
              "\n",
              "    [theme=dark] .colab-df-convert:hover {\n",
              "      background-color: #434B5C;\n",
              "      box-shadow: 0px 1px 3px 1px rgba(0, 0, 0, 0.15);\n",
              "      filter: drop-shadow(0px 1px 2px rgba(0, 0, 0, 0.3));\n",
              "      fill: #FFFFFF;\n",
              "    }\n",
              "  </style>\n",
              "\n",
              "      <script>\n",
              "        const buttonEl =\n",
              "          document.querySelector('#df-204d26a3-321e-4794-b9ee-d5a277c93ad7 button.colab-df-convert');\n",
              "        buttonEl.style.display =\n",
              "          google.colab.kernel.accessAllowed ? 'block' : 'none';\n",
              "\n",
              "        async function convertToInteractive(key) {\n",
              "          const element = document.querySelector('#df-204d26a3-321e-4794-b9ee-d5a277c93ad7');\n",
              "          const dataTable =\n",
              "            await google.colab.kernel.invokeFunction('convertToInteractive',\n",
              "                                                     [key], {});\n",
              "          if (!dataTable) return;\n",
              "\n",
              "          const docLinkHtml = 'Like what you see? Visit the ' +\n",
              "            '<a target=\"_blank\" href=https://colab.research.google.com/notebooks/data_table.ipynb>data table notebook</a>'\n",
              "            + ' to learn more about interactive tables.';\n",
              "          element.innerHTML = '';\n",
              "          dataTable['output_type'] = 'display_data';\n",
              "          await google.colab.output.renderOutput(dataTable, element);\n",
              "          const docLink = document.createElement('div');\n",
              "          docLink.innerHTML = docLinkHtml;\n",
              "          element.appendChild(docLink);\n",
              "        }\n",
              "      </script>\n",
              "    </div>\n",
              "  </div>\n",
              "  "
            ]
          },
          "metadata": {},
          "execution_count": 37
        }
      ]
    },
    {
      "cell_type": "markdown",
      "source": [
        "Вариант с layerList_tail=[128,64,32,16]"
      ],
      "metadata": {
        "id": "H_No3dsGJ-cv"
      }
    },
    {
      "cell_type": "code",
      "source": [
        "batch_size_list = [50, 100,200]\n",
        "epoch_list = [100, 150, 200]\n",
        "neuron_list=[64,128]\n",
        "layerList_tail=[128,64,32,16]\n",
        "Error_exp_=expirience(batch_size_list, epoch_list, neuron_list, layerList_tail)\n",
        "plotter(epoch_list, batch_size_list, Error_exp_)"
      ],
      "metadata": {
        "id": "zm9DKHgQchvI"
      },
      "execution_count": null,
      "outputs": []
    },
    {
      "cell_type": "markdown",
      "metadata": {
        "id": "NWEbQUtLRYlQ"
      },
      "source": [
        "# Анализ сводной таблицы и графики :\n",
        "\n",
        " - Нужно сделать больше экспериментов и посмотреть на конструкцию модели иначе\n",
        "\n",
        "\n",
        "# Рекомендации:\n",
        "стоит применить подход с использованием свёрток разной величины для увеличения комбинаторности свойств в свёрточных слоях\n",
        "\n",
        "Серьезные ограничения накладываются на призводственные ресурсы. Colab отключает GPU после нескольких прогонов эксперимента. Исследования минимальных изменений архитектуры сети проходят до суток и более."
      ]
    },
    {
      "cell_type": "code",
      "metadata": {
        "id": "4l5rWeSgS6KJ"
      },
      "source": [
        ""
      ],
      "execution_count": null,
      "outputs": []
    }
  ]
}